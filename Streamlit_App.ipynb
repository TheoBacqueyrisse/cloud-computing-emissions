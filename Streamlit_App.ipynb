{
  "nbformat": 4,
  "nbformat_minor": 0,
  "metadata": {
    "colab": {
      "provenance": [],
      "authorship_tag": "ABX9TyNOdP+m8bvMLkb4g4/OjR/+"
    },
    "kernelspec": {
      "name": "python3",
      "display_name": "Python 3"
    },
    "language_info": {
      "name": "python"
    }
  },
  "cells": [
    {
      "cell_type": "markdown",
      "source": [
        "# Vizualisation of Results with Streamlit"
      ],
      "metadata": {
        "id": "Q3vigwwCo-lv"
      }
    },
    {
      "cell_type": "code",
      "execution_count": 1,
      "metadata": {
        "id": "rxtS60ZdaJK5"
      },
      "outputs": [],
      "source": [
        "%%capture\n",
        "!pip install -q streamlit\n",
        "!npm install localtunnel\n",
        "!git clone https://github.com/ben-rocheteau/cloud_computing_emissions.git\n",
        "%cd /content/cloud_computing_emissions\n",
        "import streamlit as st"
      ]
    },
    {
      "cell_type": "code",
      "source": [
        "!ls"
      ],
      "metadata": {
        "colab": {
          "base_uri": "https://localhost:8080/"
        },
        "id": "P5xyJd6haLEy",
        "outputId": "68dcec0b-6c03-4e60-bca1-33a39e57c6c1"
      },
      "execution_count": 2,
      "outputs": [
        {
          "output_type": "stream",
          "name": "stdout",
          "text": [
            "0_Data\t     DataMining_Project.ipynb  package-lock.json  Report.md\t       streamlit_app.py\n",
            "1_Functions  images\t\t       README.md\t  Streamlit_App.ipynb  utils.py\n"
          ]
        }
      ]
    },
    {
      "cell_type": "code",
      "source": [
        "from google.colab import drive\n",
        "drive.mount('/content/drive')"
      ],
      "metadata": {
        "colab": {
          "base_uri": "https://localhost:8080/"
        },
        "id": "8mFAQ_BxaQei",
        "outputId": "5447a319-b6dd-4669-f100-470e23e1663c"
      },
      "execution_count": 3,
      "outputs": [
        {
          "output_type": "stream",
          "name": "stdout",
          "text": [
            "Mounted at /content/drive\n"
          ]
        }
      ]
    },
    {
      "cell_type": "markdown",
      "source": [
        "- Copy the below **Endpoint IP**"
      ],
      "metadata": {
        "id": "2PnveZcpowqs"
      }
    },
    {
      "cell_type": "code",
      "source": [
        "import urllib\n",
        "print(\"Password/Enpoint IP for localtunnel is:\",urllib.request.urlopen('https://ipv4.icanhazip.com').read().decode('utf8').strip(\"\\n\"))"
      ],
      "metadata": {
        "colab": {
          "base_uri": "https://localhost:8080/"
        },
        "id": "5XBrSVdHbEMv",
        "outputId": "580e99fe-4b87-4063-ad40-4106f9d41a0a"
      },
      "execution_count": 4,
      "outputs": [
        {
          "output_type": "stream",
          "name": "stdout",
          "text": [
            "Password/Enpoint IP for localtunnel is: 35.238.180.242\n"
          ]
        }
      ]
    },
    {
      "cell_type": "markdown",
      "source": [
        "- Paste the IP in the following **localtunnel link**"
      ],
      "metadata": {
        "id": "yThKMsmUo4r2"
      }
    },
    {
      "cell_type": "code",
      "source": [
        "!streamlit run streamlit_app.py &>/content/logs.txt &\n",
        "!npx localtunnel --port 8501"
      ],
      "metadata": {
        "colab": {
          "base_uri": "https://localhost:8080/"
        },
        "id": "VMhN_sDebE0y",
        "outputId": "ab53de52-3e4e-4fcf-c822-c62368918ccc"
      },
      "execution_count": 57,
      "outputs": [
        {
          "output_type": "stream",
          "name": "stdout",
          "text": [
            "\u001b[K\u001b[?25hnpx: installed 22 in 3.133s\n",
            "your url is: https://wicked-regions-tap.loca.lt\n",
            "^C\n"
          ]
        }
      ]
    }
  ]
}